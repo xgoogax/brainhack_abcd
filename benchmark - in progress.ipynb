{
 "cells": [
  {
   "cell_type": "code",
   "execution_count": 2,
   "metadata": {
    "collapsed": false
   },
   "outputs": [],
   "source": [
    "import numpy as np \n",
    "import pandas as pd \n",
    "import matplotlib.pyplot as plt\n",
    "%matplotlib inline\n",
    "from utils.data_loader import Dataset\n",
    "from utils.helpers import * \n",
    "from sklearn.preprocessing import StandardScaler\n",
    "from sklearn.svm import SVR \n",
    "import xgboost\n",
    "from sklearn.ensemble import RandomForestRegressor\n",
    "import eli5\n",
    "from eli5.sklearn import PermutationImportance"
   ]
  },
  {
   "cell_type": "markdown",
   "metadata": {},
   "source": [
    "## TODO:\n",
    "1. create a benchmark for comparing the results \n",
    "2. measure the importance of features based on "
   ]
  },
  {
   "cell_type": "code",
   "execution_count": 3,
   "metadata": {
    "collapsed": false
   },
   "outputs": [
    {
     "name": "stderr",
     "output_type": "stream",
     "text": [
      "/Users/admin/anaconda/lib/python3.5/site-packages/IPython/core/interactiveshell.py:2885: DtypeWarning: Columns (0,1,2,6,8,9,10,11,12,13,14,15,16,17,18,19,20,21,22,23,24,25,26,27,28,29,30,31,32,33,34,35,36,37,38,39,40,41,42,43,44,45,46,47,48,49,50,51,52,53,54,55,56,57,58,59,60,61,62,63,64,65,66,67,68,69,70,71,72,73,74,75,76,77,78,79,80,81,82,83,84,85,86,87,88,89,90,91,92,93,94,95,96,97,98,99,100,101,102,103,104,105,106,107,108,109,110,111,112,113,114,115,116,117,118,119,120,121,122,123,124,125,126,127,128,129) have mixed types. Specify dtype option on import or set low_memory=False.\n",
      "  exec(code_obj, self.user_global_ns, self.user_ns)\n"
     ]
    }
   ],
   "source": [
    "# training_filenames = [ './data/training_fluid_intelligenceV1.csv', './data/btsv01.txt', './data/cc_training_v2.csv', \\\n",
    "#                      'data/training_data_means.csv', 'data/training_data_entropy.csv',  'data/training_data_stdevs.csv',]\n",
    "# validation_filenames=[ './data/validation_fluid_intelligenceV1.csv', './data/btsv01.txt', './data/cc_validation_v2.csv', \\\n",
    "#                      'data/validation_data_means.csv', 'data/validation_data_entropy.csv', 'data/validation_data_stdevs.csv']\n",
    "\n",
    "training_filenames = ['./data/training_fluid_intelligenceV1.csv', './data/btsv01_ALL.txt', './data/cc_training_v2.csv']\n",
    "validation_filenames = ['./data/validation_fluid_intelligenceV1.csv', './data/btsv01_ALL.txt', './data/cc_validation_v2.csv']\n",
    "\n",
    "cols_to_drop = ['btsv01_id', 'interview_date', 'collection_id', 'dataset_id', 'collection_title', \\\n",
    "                'src_subject_id', 'gender']\n",
    "\n",
    "label_col = 'residual_fluid_intelligence_score'\n",
    "\n",
    "training = Dataset(training_filenames, cols_to_drop, label_col)\n",
    "validation = Dataset(validation_filenames, cols_to_drop, label_col)\n",
    "dataset_cols = training.meta_data['final_dataset']['columns']\n",
    "#train - 3723 vs 3739\n",
    "#val - 411 vs 415"
   ]
  },
  {
   "cell_type": "code",
   "execution_count": 4,
   "metadata": {
    "collapsed": false
   },
   "outputs": [
    {
     "data": {
      "text/plain": [
       "415"
      ]
     },
     "execution_count": 4,
     "metadata": {},
     "output_type": "execute_result"
    }
   ],
   "source": [
    "len(validation.data)"
   ]
  },
  {
   "cell_type": "code",
   "execution_count": 5,
   "metadata": {
    "collapsed": true
   },
   "outputs": [],
   "source": [
    "scaler = StandardScaler()\n",
    "train_data = scaler.fit_transform(training.data)\n",
    "val_data = scaler.transform(validation.data)"
   ]
  },
  {
   "cell_type": "code",
   "execution_count": 6,
   "metadata": {
    "collapsed": true
   },
   "outputs": [],
   "source": [
    "#generating custom columns\n",
    "is_frontal = np.array([x for x in range(train_data.shape[1]) if 'frontal' in training.meta_data['final_dataset']['columns'][x]])\n",
    "is_suptent = np.array([x for x in range(train_data.shape[1]) if 'supratentorium' in training.meta_data['final_dataset']['columns'][x]])\n",
    "structures_to_delete = ['interview_age', 'thalamus', 'caudate', 'putamen', 'pallidum', 'volume', 'wm', 'supratentorium', 'csf']\n",
    "cortex_indices = []\n",
    "for i,column in enumerate(training.meta_data['final_dataset']['columns'][:123]):\n",
    "    curr_deletes = []\n",
    "    for name in structures_to_delete: \n",
    "        if name in column:\n",
    "            curr_deletes.append(name)\n",
    "    if len(curr_deletes)==0 and i>=0:\n",
    "        cortex_indices.append(i)\n",
    "\n",
    "cortex_indices = np.array(cortex_indices)\n",
    "\n",
    "def generate_frontal_ratio(frontal_inds, reference_inds, data):\n",
    "    coefs = []\n",
    "    for observation in data:\n",
    "        frontal_volume = np.sum(observation[frontal_inds])\n",
    "        reference_volume = np.sum(observation[reference_inds])\n",
    "        coefs.append(frontal_volume/reference_volume)\n",
    "    return np.array(coefs).reshape(-1,1)\n",
    "\n",
    "\n",
    "frontal_suptent_train = scaler.fit_transform(generate_frontal_ratio(is_frontal, is_suptent, train_data))\n",
    "frontal_suptent_val = scaler.transform(generate_frontal_ratio(is_frontal, is_suptent, val_data))\n",
    "frontal_cortex_train= scaler.fit_transform(generate_frontal_ratio(is_frontal, cortex_indices, train_data))\n",
    "frontal_cortex_val = scaler.transform(generate_frontal_ratio(is_frontal, cortex_indices, val_data))\n",
    "\n",
    "#append to cols and to data\n",
    "dataset_cols.extend(['frontal_suptent_ratio', 'frontal_cortex_ratio'])\n",
    "train_data = np.append(train_data, np.hstack((frontal_suptent_train, frontal_cortex_train)), axis=1)\n",
    "val_data = np.append(val_data, np.hstack((frontal_suptent_val, frontal_cortex_val)), axis=1)"
   ]
  },
  {
   "cell_type": "code",
   "execution_count": 7,
   "metadata": {
    "collapsed": false
   },
   "outputs": [
    {
     "data": {
      "text/plain": [
       "72.80058470038674"
      ]
     },
     "execution_count": 7,
     "metadata": {},
     "output_type": "execute_result"
    }
   ],
   "source": [
    "svr = SVR()\n",
    "svr.fit(train_data, training.labels)\n",
    "preds= svr.predict(val_data)\n",
    "mse(preds, validation.labels)"
   ]
  },
  {
   "cell_type": "code",
   "execution_count": 8,
   "metadata": {
    "collapsed": true
   },
   "outputs": [],
   "source": [
    "#here think about how we will benchmark the data\n",
    "#list - each element is an object of a model that we want to try\n",
    "\n",
    "\n",
    "def restrict_dataset(final_cols, df_dict, filenames, include_generated=True):\n",
    "    #here we restrict our dataset to only columns that are found in the dataframes from the following filenames\n",
    "    valid_cols = []\n",
    "    if include_generated:\n",
    "        valid_cols.extend(['frontal_suptent_ratio', 'frontal_cortex_ratio'])\n",
    "    for file in filenames:\n",
    "        valid_cols.extend(df_dict[file]['columns'])\n",
    "    valid_cols = set(final_cols).intersection(set(valid_cols))\n",
    "    valid_inds = np.array([i for i,x in enumerate(final_cols) if x in valid_cols])\n",
    "    return valid_inds\n"
   ]
  },
  {
   "cell_type": "code",
   "execution_count": 10,
   "metadata": {
    "collapsed": false
   },
   "outputs": [],
   "source": [
    "import itertools\n",
    "files_to_explore = ['./data/btsv01_ALL.txt','./data/cc_training_v2.csv' ]\n",
    "\n",
    "files_compound_variants = list(set([tuple(set(x)) for x in itertools.combinations_with_replacement(files_to_explore, len(files_to_explore))]))\n",
    "column_variants = [restrict_dataset(dataset_cols, training.meta_data, f) for f in files_compound_variants]\n",
    "column_variants.extend([restrict_dataset(dataset_cols, training.meta_data, f, include_generated=False) for f in files_compound_variants])\n",
    "column_variants.append([x for x in range(train_data.shape[1])])"
   ]
  },
  {
   "cell_type": "code",
   "execution_count": 78,
   "metadata": {
    "collapsed": false
   },
   "outputs": [
    {
     "data": {
      "text/plain": [
       "'6 completed'"
      ]
     },
     "metadata": {},
     "output_type": "display_data"
    }
   ],
   "source": [
    "from IPython.display import display, clear_output\n",
    "import time\n",
    "\n",
    "models = {\n",
    "    'majority': np.array([np.mean(training.labels) for x in val_data]), \n",
    "    'random': np.random.rand(len(val_data))*15, #15 is a sd of our distribution\n",
    "    'svr': SVR(),\n",
    "    'randfor': RandomForestRegressor(n_estimators=500, n_jobs=-1, random_state=42), \n",
    "    'xgboost': xgboost.XGBRegressor(max_depth=7, n_jobs=-1, random_state=42, n_estimators=500)\n",
    "}\n",
    "\n",
    "results = {\n",
    "  'majority': mse(models['majority'], validation.labels), \n",
    "    'random': mse(models['random'], validation.labels)\n",
    "}\n",
    "best_val = 100\n",
    "best_ind = 0\n",
    "for i,x in enumerate(column_variants):\n",
    "    results[i] = {}\n",
    "    for model in models.keys(): \n",
    "        if model not in ['majority', 'random']:\n",
    "            models[model].fit(train_data[:,x], training.labels)\n",
    "            pred = models[model].predict(val_data[:,x])\n",
    "            results[i][model] = mse(pred, validation.labels)\n",
    "            if results[i][model] < best_val: \n",
    "                best_val = results[i][model]\n",
    "                best_ind = i\n",
    "    clear_output(wait=True)\n",
    "    display('{} completed'.format(i))\n",
    "    time.sleep(0.01)"
   ]
  },
  {
   "cell_type": "code",
   "execution_count": 79,
   "metadata": {
    "collapsed": false
   },
   "outputs": [
    {
     "data": {
      "text/plain": [
       "70.98327127079955"
      ]
     },
     "execution_count": 79,
     "metadata": {},
     "output_type": "execute_result"
    }
   ],
   "source": [
    "best_val"
   ]
  },
  {
   "cell_type": "code",
   "execution_count": 80,
   "metadata": {
    "collapsed": false
   },
   "outputs": [
    {
     "name": "stdout",
     "output_type": "stream",
     "text": [
      "3\n"
     ]
    }
   ],
   "source": [
    "print(best_ind)"
   ]
  },
  {
   "cell_type": "code",
   "execution_count": 81,
   "metadata": {
    "collapsed": false
   },
   "outputs": [
    {
     "data": {
      "text/plain": [
       "{'randfor': 70.98327127079955,\n",
       " 'svr': 72.8056154090171,\n",
       " 'xgboost': 75.50993235086365}"
      ]
     },
     "execution_count": 81,
     "metadata": {},
     "output_type": "execute_result"
    }
   ],
   "source": [
    "results[best_ind]"
   ]
  },
  {
   "cell_type": "code",
   "execution_count": 17,
   "metadata": {
    "collapsed": false
   },
   "outputs": [
    {
     "data": {
      "text/plain": [
       "('./data/btsv01_ALL.txt', './data/cc_training_v2.csv')"
      ]
     },
     "execution_count": 17,
     "metadata": {},
     "output_type": "execute_result"
    }
   ],
   "source": [
    "files_compound_variants[len(files_compound_variants)-best_ind]"
   ]
  },
  {
   "cell_type": "code",
   "execution_count": 18,
   "metadata": {
    "collapsed": true
   },
   "outputs": [],
   "source": [
    "int_to_cols = {i: x for i,x in enumerate(column_variants)}"
   ]
  },
  {
   "cell_type": "code",
   "execution_count": 57,
   "metadata": {
    "collapsed": false
   },
   "outputs": [
    {
     "name": "stdout",
     "output_type": "stream",
     "text": [
      "2019-03-22_default+cc\n",
      "<class 'str'>\n"
     ]
    }
   ],
   "source": [
    "import datetime\n",
    "date = str(datetime.date.today()) + '_default+cc'\n",
    "print(date)\n",
    "print(type(date))"
   ]
  },
  {
   "cell_type": "code",
   "execution_count": 20,
   "metadata": {
    "collapsed": false
   },
   "outputs": [
    {
     "name": "stdout",
     "output_type": "stream",
     "text": [
      "[('./data/btsv01_ALL.txt', './data/cc_training_v2.csv'), ('./data/cc_training_v2.csv',), ('./data/btsv01_ALL.txt',)]\n"
     ]
    }
   ],
   "source": [
    "print(files_compound_variants)"
   ]
  },
  {
   "cell_type": "code",
   "execution_count": 58,
   "metadata": {
    "collapsed": true
   },
   "outputs": [],
   "source": [
    "import pickle\n",
    "\n",
    "results_file = 'data/results_{}.pkl'.format(date)\n",
    "with open(results_file, 'wb') as f:\n",
    "    pickle.dump(results, f)\n",
    "    \n",
    "int_to_col_file = 'data/variants_mapping_{}.pkl'.format(date)\n",
    "with open(int_to_col_file, 'wb') as f: \n",
    "    pickle.dump(int_to_cols, f)\n"
   ]
  },
  {
   "cell_type": "code",
   "execution_count": 21,
   "metadata": {
    "collapsed": true
   },
   "outputs": [],
   "source": [
    "svr_results = [results[x]['svr'] for x in results.keys() if x not in ['random', 'majority']]\n",
    "randfor_results = [results[x]['randfor'] for x in results.keys() if x not in ['random', 'majority']]\n",
    "xgb_results = [results[x]['xgboost'] for x in results.keys() if x not in ['random', 'majority']]"
   ]
  },
  {
   "cell_type": "code",
   "execution_count": 16,
   "metadata": {
    "collapsed": false
   },
   "outputs": [
    {
     "name": "stdout",
     "output_type": "stream",
     "text": [
      "72.41435965196321\n",
      "71.88197098089242\n",
      "75.31435460259364\n"
     ]
    }
   ],
   "source": [
    "print(np.mean(svr_results))\n",
    "print(np.mean(randfor_results))\n",
    "print(np.mean(xgb_results))"
   ]
  },
  {
   "cell_type": "code",
   "execution_count": 77,
   "metadata": {
    "collapsed": false
   },
   "outputs": [
    {
     "name": "stdout",
     "output_type": "stream",
     "text": [
      "MSE on train: 11.629975927940768\n",
      "MSE on val: 70.98327127079955\n"
     ]
    }
   ],
   "source": [
    "best_clf = models['randfor']\n",
    "best_clf.fit(train_data[:,column_variants[best_ind]], training.labels)\n",
    "preds_train = best_clf.predict(train_data[:,column_variants[best_ind]])\n",
    "preds_val = best_clf.predict(val_data[:,column_variants[best_ind]])\n",
    "print(\"MSE on train: {}\".format(mse(preds_train, training.labels)))\n",
    "print(\"MSE on val: {}\".format(mse(preds_val, validation.labels)))"
   ]
  },
  {
   "cell_type": "code",
   "execution_count": null,
   "metadata": {
    "collapsed": false
   },
   "outputs": [],
   "source": []
  },
  {
   "cell_type": "code",
   "execution_count": 62,
   "metadata": {
    "collapsed": true
   },
   "outputs": [],
   "source": [
    "#fitting on val data for generalization purposes\n",
    "perm = PermutationImportance(best_clf, random_state=1, scoring='neg_mean_squared_error').fit(val_data[:, column_variants[best_ind]], validation.labels)\n"
   ]
  },
  {
   "cell_type": "code",
   "execution_count": 63,
   "metadata": {
    "collapsed": false
   },
   "outputs": [
    {
     "data": {
      "text/html": [
       "\n",
       "    <style>\n",
       "    table.eli5-weights tr:hover {\n",
       "        filter: brightness(85%);\n",
       "    }\n",
       "</style>\n",
       "\n",
       "\n",
       "\n",
       "    \n",
       "\n",
       "    \n",
       "\n",
       "    \n",
       "\n",
       "    \n",
       "\n",
       "    \n",
       "\n",
       "    \n",
       "\n",
       "\n",
       "    \n",
       "\n",
       "    \n",
       "\n",
       "    \n",
       "\n",
       "    \n",
       "\n",
       "    \n",
       "\n",
       "    \n",
       "\n",
       "\n",
       "    \n",
       "\n",
       "    \n",
       "\n",
       "    \n",
       "\n",
       "    \n",
       "\n",
       "    \n",
       "        <table class=\"eli5-weights eli5-feature-importances\" style=\"border-collapse: collapse; border: none; margin-top: 0em; table-layout: auto;\">\n",
       "    <thead>\n",
       "    <tr style=\"border: none;\">\n",
       "        <th style=\"padding: 0 1em 0 0.5em; text-align: right; border: none;\">Weight</th>\n",
       "        <th style=\"padding: 0 0.5em 0 0.5em; text-align: left; border: none;\">Feature</th>\n",
       "    </tr>\n",
       "    </thead>\n",
       "    <tbody>\n",
       "    \n",
       "        <tr style=\"background-color: hsl(120, 100.00%, 80.00%); border: none;\">\n",
       "            <td style=\"padding: 0 1em 0 0.5em; text-align: right; border: none;\">\n",
       "                0.5675\n",
       "                \n",
       "                    &plusmn; 0.8170\n",
       "                \n",
       "            </td>\n",
       "            <td style=\"padding: 0 0.5em 0 0.5em; text-align: left; border: none;\">\n",
       "                sri24ponswm\n",
       "            </td>\n",
       "        </tr>\n",
       "    \n",
       "        <tr style=\"background-color: hsl(120, 100.00%, 87.47%); border: none;\">\n",
       "            <td style=\"padding: 0 1em 0 0.5em; text-align: right; border: none;\">\n",
       "                0.2911\n",
       "                \n",
       "                    &plusmn; 0.2097\n",
       "                \n",
       "            </td>\n",
       "            <td style=\"padding: 0 0.5em 0 0.5em; text-align: left; border: none;\">\n",
       "                sri24fusiformrgm\n",
       "            </td>\n",
       "        </tr>\n",
       "    \n",
       "        <tr style=\"background-color: hsl(120, 100.00%, 88.50%); border: none;\">\n",
       "            <td style=\"padding: 0 1em 0 0.5em; text-align: right; border: none;\">\n",
       "                0.2573\n",
       "                \n",
       "                    &plusmn; 0.1715\n",
       "                \n",
       "            </td>\n",
       "            <td style=\"padding: 0 0.5em 0 0.5em; text-align: left; border: none;\">\n",
       "                sri24caudatergm\n",
       "            </td>\n",
       "        </tr>\n",
       "    \n",
       "        <tr style=\"background-color: hsl(120, 100.00%, 90.98%); border: none;\">\n",
       "            <td style=\"padding: 0 1em 0 0.5em; text-align: right; border: none;\">\n",
       "                0.1819\n",
       "                \n",
       "                    &plusmn; 0.0967\n",
       "                \n",
       "            </td>\n",
       "            <td style=\"padding: 0 0.5em 0 0.5em; text-align: left; border: none;\">\n",
       "                sri24vtlslateralvtllcsf\n",
       "            </td>\n",
       "        </tr>\n",
       "    \n",
       "        <tr style=\"background-color: hsl(120, 100.00%, 91.11%); border: none;\">\n",
       "            <td style=\"padding: 0 1em 0 0.5em; text-align: right; border: none;\">\n",
       "                0.1781\n",
       "                \n",
       "                    &plusmn; 0.2101\n",
       "                \n",
       "            </td>\n",
       "            <td style=\"padding: 0 0.5em 0 0.5em; text-align: left; border: none;\">\n",
       "                sri24parietalinfrgm\n",
       "            </td>\n",
       "        </tr>\n",
       "    \n",
       "        <tr style=\"background-color: hsl(120, 100.00%, 91.24%); border: none;\">\n",
       "            <td style=\"padding: 0 1em 0 0.5em; text-align: right; border: none;\">\n",
       "                0.1745\n",
       "                \n",
       "                    &plusmn; 0.1301\n",
       "                \n",
       "            </td>\n",
       "            <td style=\"padding: 0 0.5em 0 0.5em; text-align: left; border: none;\">\n",
       "                sri24vtlsthirdvtllcsf\n",
       "            </td>\n",
       "        </tr>\n",
       "    \n",
       "        <tr style=\"background-color: hsl(120, 100.00%, 91.50%); border: none;\">\n",
       "            <td style=\"padding: 0 1em 0 0.5em; text-align: right; border: none;\">\n",
       "                0.1672\n",
       "                \n",
       "                    &plusmn; 0.1728\n",
       "                \n",
       "            </td>\n",
       "            <td style=\"padding: 0 0.5em 0 0.5em; text-align: left; border: none;\">\n",
       "                sri24cerebelum6rvolume\n",
       "            </td>\n",
       "        </tr>\n",
       "    \n",
       "        <tr style=\"background-color: hsl(120, 100.00%, 91.82%); border: none;\">\n",
       "            <td style=\"padding: 0 1em 0 0.5em; text-align: right; border: none;\">\n",
       "                0.1582\n",
       "                \n",
       "                    &plusmn; 0.1155\n",
       "                \n",
       "            </td>\n",
       "            <td style=\"padding: 0 0.5em 0 0.5em; text-align: left; border: none;\">\n",
       "                sri24cingulummidlgm\n",
       "            </td>\n",
       "        </tr>\n",
       "    \n",
       "        <tr style=\"background-color: hsl(120, 100.00%, 92.07%); border: none;\">\n",
       "            <td style=\"padding: 0 1em 0 0.5em; text-align: right; border: none;\">\n",
       "                0.1513\n",
       "                \n",
       "                    &plusmn; 0.1129\n",
       "                \n",
       "            </td>\n",
       "            <td style=\"padding: 0 0.5em 0 0.5em; text-align: left; border: none;\">\n",
       "                sri24cerebelum8rvolume\n",
       "            </td>\n",
       "        </tr>\n",
       "    \n",
       "        <tr style=\"background-color: hsl(120, 100.00%, 92.24%); border: none;\">\n",
       "            <td style=\"padding: 0 1em 0 0.5em; text-align: right; border: none;\">\n",
       "                0.1468\n",
       "                \n",
       "                    &plusmn; 0.2346\n",
       "                \n",
       "            </td>\n",
       "            <td style=\"padding: 0 0.5em 0 0.5em; text-align: left; border: none;\">\n",
       "                sri24parietalinflgm\n",
       "            </td>\n",
       "        </tr>\n",
       "    \n",
       "        <tr style=\"background-color: hsl(120, 100.00%, 92.35%); border: none;\">\n",
       "            <td style=\"padding: 0 1em 0 0.5em; text-align: right; border: none;\">\n",
       "                0.1438\n",
       "                \n",
       "                    &plusmn; 0.0947\n",
       "                \n",
       "            </td>\n",
       "            <td style=\"padding: 0 0.5em 0 0.5em; text-align: left; border: none;\">\n",
       "                sri24parietalsuprgm\n",
       "            </td>\n",
       "        </tr>\n",
       "    \n",
       "        <tr style=\"background-color: hsl(120, 100.00%, 92.43%); border: none;\">\n",
       "            <td style=\"padding: 0 1em 0 0.5em; text-align: right; border: none;\">\n",
       "                0.1416\n",
       "                \n",
       "                    &plusmn; 0.2065\n",
       "                \n",
       "            </td>\n",
       "            <td style=\"padding: 0 0.5em 0 0.5em; text-align: left; border: none;\">\n",
       "                sri24insulargm\n",
       "            </td>\n",
       "        </tr>\n",
       "    \n",
       "        <tr style=\"background-color: hsl(120, 100.00%, 92.62%); border: none;\">\n",
       "            <td style=\"padding: 0 1em 0 0.5em; text-align: right; border: none;\">\n",
       "                0.1366\n",
       "                \n",
       "                    &plusmn; 0.2310\n",
       "                \n",
       "            </td>\n",
       "            <td style=\"padding: 0 0.5em 0 0.5em; text-align: left; border: none;\">\n",
       "                sri24hippocampusrgm\n",
       "            </td>\n",
       "        </tr>\n",
       "    \n",
       "        <tr style=\"background-color: hsl(120, 100.00%, 93.65%); border: none;\">\n",
       "            <td style=\"padding: 0 1em 0 0.5em; text-align: right; border: none;\">\n",
       "                0.1101\n",
       "                \n",
       "                    &plusmn; 0.1457\n",
       "                \n",
       "            </td>\n",
       "            <td style=\"padding: 0 0.5em 0 0.5em; text-align: left; border: none;\">\n",
       "                sri24frontalinfoperlgm\n",
       "            </td>\n",
       "        </tr>\n",
       "    \n",
       "        <tr style=\"background-color: hsl(120, 100.00%, 93.77%); border: none;\">\n",
       "            <td style=\"padding: 0 1em 0 0.5em; text-align: right; border: none;\">\n",
       "                0.1072\n",
       "                \n",
       "                    &plusmn; 0.0571\n",
       "                \n",
       "            </td>\n",
       "            <td style=\"padding: 0 0.5em 0 0.5em; text-align: left; border: none;\">\n",
       "                sri24frontalinfoperrgm\n",
       "            </td>\n",
       "        </tr>\n",
       "    \n",
       "        <tr style=\"background-color: hsl(120, 100.00%, 93.93%); border: none;\">\n",
       "            <td style=\"padding: 0 1em 0 0.5em; text-align: right; border: none;\">\n",
       "                0.1033\n",
       "                \n",
       "                    &plusmn; 0.0663\n",
       "                \n",
       "            </td>\n",
       "            <td style=\"padding: 0 0.5em 0 0.5em; text-align: left; border: none;\">\n",
       "                sri24cingulummidrgm\n",
       "            </td>\n",
       "        </tr>\n",
       "    \n",
       "        <tr style=\"background-color: hsl(120, 100.00%, 94.20%); border: none;\">\n",
       "            <td style=\"padding: 0 1em 0 0.5em; text-align: right; border: none;\">\n",
       "                0.0968\n",
       "                \n",
       "                    &plusmn; 0.2237\n",
       "                \n",
       "            </td>\n",
       "            <td style=\"padding: 0 0.5em 0 0.5em; text-align: left; border: none;\">\n",
       "                sri24cingulumpostrgm\n",
       "            </td>\n",
       "        </tr>\n",
       "    \n",
       "        <tr style=\"background-color: hsl(120, 100.00%, 94.37%); border: none;\">\n",
       "            <td style=\"padding: 0 1em 0 0.5em; text-align: right; border: none;\">\n",
       "                0.0927\n",
       "                \n",
       "                    &plusmn; 0.0998\n",
       "                \n",
       "            </td>\n",
       "            <td style=\"padding: 0 0.5em 0 0.5em; text-align: left; border: none;\">\n",
       "                sri24suppmotorareargm\n",
       "            </td>\n",
       "        </tr>\n",
       "    \n",
       "        <tr style=\"background-color: hsl(120, 100.00%, 94.53%); border: none;\">\n",
       "            <td style=\"padding: 0 1em 0 0.5em; text-align: right; border: none;\">\n",
       "                0.0891\n",
       "                \n",
       "                    &plusmn; 0.0949\n",
       "                \n",
       "            </td>\n",
       "            <td style=\"padding: 0 0.5em 0 0.5em; text-align: left; border: none;\">\n",
       "                sri24frontalsuporbrgm\n",
       "            </td>\n",
       "        </tr>\n",
       "    \n",
       "        <tr style=\"background-color: hsl(120, 100.00%, 94.60%); border: none;\">\n",
       "            <td style=\"padding: 0 1em 0 0.5em; text-align: right; border: none;\">\n",
       "                0.0875\n",
       "                \n",
       "                    &plusmn; 0.0621\n",
       "                \n",
       "            </td>\n",
       "            <td style=\"padding: 0 0.5em 0 0.5em; text-align: left; border: none;\">\n",
       "                sri24frontalsuporblgm\n",
       "            </td>\n",
       "        </tr>\n",
       "    \n",
       "    \n",
       "        \n",
       "            <tr style=\"background-color: hsl(120, 100.00%, 94.60%); border: none;\">\n",
       "                <td colspan=\"2\" style=\"padding: 0 0.5em 0 0.5em; text-align: center; border: none; white-space: nowrap;\">\n",
       "                    <i>&hellip; 119 more &hellip;</i>\n",
       "                </td>\n",
       "            </tr>\n",
       "        \n",
       "    \n",
       "    </tbody>\n",
       "</table>\n",
       "    \n",
       "\n",
       "    \n",
       "\n",
       "\n",
       "    \n",
       "\n",
       "    \n",
       "\n",
       "    \n",
       "\n",
       "    \n",
       "\n",
       "    \n",
       "\n",
       "    \n",
       "\n",
       "\n",
       "\n"
      ],
      "text/plain": [
       "<IPython.core.display.HTML object>"
      ]
     },
     "execution_count": 63,
     "metadata": {},
     "output_type": "execute_result"
    }
   ],
   "source": [
    "eli5.show_weights(perm, feature_names = np.array(dataset_cols)[column_variants[best_ind]])"
   ]
  },
  {
   "cell_type": "code",
   "execution_count": 64,
   "metadata": {
    "collapsed": true
   },
   "outputs": [],
   "source": [
    "len(perm.feature_importances_)\n",
    "df_feature_imp = pd.DataFrame(columns=['feature_name', 'feature_importance'])\n",
    "df_feature_imp['feature_name'] = np.array(dataset_cols)[column_variants[best_ind]]\n",
    "df_feature_imp['feature_importance'] = perm.feature_importances_"
   ]
  },
  {
   "cell_type": "code",
   "execution_count": 82,
   "metadata": {
    "collapsed": true
   },
   "outputs": [],
   "source": [
    "import pickle\n",
    "file_feature_import= 'data/feature_importance_{}randfor.pkl'.format(date)\n",
    "with open(file_feature_import, 'wb') as f: \n",
    "    pickle.dump(df_feature_imp, f)\n",
    "    "
   ]
  },
  {
   "cell_type": "code",
   "execution_count": 83,
   "metadata": {
    "collapsed": true
   },
   "outputs": [],
   "source": [
    "df_feature_imp.to_csv('data/feature_importance_{}randfor.csv'.format(date))"
   ]
  },
  {
   "cell_type": "code",
   "execution_count": 75,
   "metadata": {
    "collapsed": false
   },
   "outputs": [
    {
     "name": "stdout",
     "output_type": "stream",
     "text": [
      "68\n"
     ]
    },
    {
     "data": {
      "text/plain": [
       "SVR(C=1.0, cache_size=200, coef0=0.0, degree=3, epsilon=0.1, gamma='auto',\n",
       "  kernel='rbf', max_iter=-1, shrinking=True, tol=0.001, verbose=False)"
      ]
     },
     "execution_count": 75,
     "metadata": {},
     "output_type": "execute_result"
    }
   ],
   "source": [
    "n_best = len(np.where(df_feature_imp['feature_importance'] >=0.01)[0])\n",
    "print(n_best)\n",
    "train_restricted = train_data[:, np.argsort(-df_feature_imp['feature_importance'])[:n_best]]\n",
    "best_clf.fit(train_restricted, training.labels)"
   ]
  },
  {
   "cell_type": "code",
   "execution_count": 76,
   "metadata": {
    "collapsed": false
   },
   "outputs": [
    {
     "name": "stdout",
     "output_type": "stream",
     "text": [
      "70.6817431870658\n"
     ]
    }
   ],
   "source": [
    "rsts_preds = best_clf.predict(val_data[:, np.argsort(-df_feature_imp['feature_importance'])[:n_best]])\n",
    "print(mse(rsts_preds, validation.labels))"
   ]
  },
  {
   "cell_type": "code",
   "execution_count": 24,
   "metadata": {
    "collapsed": false
   },
   "outputs": [
    {
     "data": {
      "text/plain": [
       "array([123, 124, 125, 126, 127, 128, 129, 130, 131, 132, 133, 134, 135,\n",
       "       136, 137, 138, 409, 410, 411, 412, 413, 414, 415, 416, 417, 418,\n",
       "       419, 420, 421, 422, 423, 424, 425, 426, 427, 428, 429, 430, 431,\n",
       "       432, 433, 434, 435, 436, 437, 438, 439, 440, 441, 442, 443, 444,\n",
       "       445, 446, 447, 448, 449, 450, 451, 452, 453, 454, 455, 456, 457,\n",
       "       458, 459, 460, 461, 462, 463, 464, 465, 466, 467, 468, 469, 470,\n",
       "       471, 472, 473, 474, 475, 476, 477, 478, 479, 480, 481, 482, 483,\n",
       "       484, 485, 486, 487, 488, 489, 490, 491, 492, 493, 494, 495, 496,\n",
       "       497, 498, 499, 500, 501, 502, 503, 504, 505, 506, 507, 508, 509,\n",
       "       510, 511, 512, 513, 514, 515, 516, 517, 518, 519, 520, 521, 522,\n",
       "       523, 524, 525, 526, 527, 528, 529, 530, 531, 532, 533, 534, 535,\n",
       "       536, 537, 538, 539, 540, 541, 542, 543])"
      ]
     },
     "execution_count": 24,
     "metadata": {},
     "output_type": "execute_result"
    }
   ],
   "source": [
    "# df_feature_imp.iloc[np.argsort(-df_feature_imp['feature_importance'].values)[:n_best]]"
   ]
  },
  {
   "cell_type": "code",
   "execution_count": 25,
   "metadata": {
    "collapsed": true
   },
   "outputs": [],
   "source": [
    "#check how everything works without Hania's features\n"
   ]
  },
  {
   "cell_type": "code",
   "execution_count": 90,
   "metadata": {
    "collapsed": false
   },
   "outputs": [
    {
     "data": {
      "text/plain": [
       "71.77790306395309"
      ]
     },
     "execution_count": 90,
     "metadata": {},
     "output_type": "execute_result"
    }
   ],
   "source": [
    "from sklearn.mixture import GaussianMixture\n",
    "\n",
    "gm = GaussianMixture(n_components=1)\n",
    "gm.fit(train_data[:,np.argsort(-df_feature_imp['feature_importance'])[:n_best]], training.labels)\n",
    "pr = gm.predict(val_data[:,np.argsort(-df_feature_imp['feature_importance'])[:n_best]])\n",
    "mse(pr, validation.labels)"
   ]
  },
  {
   "cell_type": "code",
   "execution_count": 36,
   "metadata": {
    "collapsed": false
   },
   "outputs": [
    {
     "data": {
      "text/plain": [
       "3638"
      ]
     },
     "execution_count": 36,
     "metadata": {},
     "output_type": "execute_result"
    }
   ],
   "source": []
  },
  {
   "cell_type": "code",
   "execution_count": null,
   "metadata": {
    "collapsed": true
   },
   "outputs": [],
   "source": []
  }
 ],
 "metadata": {
  "kernelspec": {
   "display_name": "Python [Root]",
   "language": "python",
   "name": "Python [Root]"
  },
  "language_info": {
   "codemirror_mode": {
    "name": "ipython",
    "version": 3
   },
   "file_extension": ".py",
   "mimetype": "text/x-python",
   "name": "python",
   "nbconvert_exporter": "python",
   "pygments_lexer": "ipython3",
   "version": "3.5.2"
  }
 },
 "nbformat": 4,
 "nbformat_minor": 2
}
